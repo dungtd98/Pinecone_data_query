{
 "cells": [
  {
   "attachments": {},
   "cell_type": "markdown",
   "metadata": {},
   "source": [
    "# Sử dụng index với Dot product metric"
   ]
  },
  {
   "cell_type": "code",
   "execution_count": 1,
   "metadata": {},
   "outputs": [
    {
     "name": "stderr",
     "output_type": "stream",
     "text": [
      "d:\\Work-Programe\\Python\\lib\\site-packages\\pinecone\\index.py:4: TqdmExperimentalWarning: Using `tqdm.autonotebook.tqdm` in notebook mode. Use `tqdm.tqdm` instead to force console mode (e.g. in jupyter console)\n",
      "  from tqdm.autonotebook import tqdm\n"
     ]
    }
   ],
   "source": [
    "from langchain.document_loaders import CSVLoader\n",
    "from langchain.text_splitter import RecursiveCharacterTextSplitter\n",
    "from langchain.vectorstores import Chroma, Pinecone\n",
    "from langchain.embeddings.openai import OpenAIEmbeddings\n",
    "import pinecone\n",
    "import os\n",
    "from dotenv import load_dotenv\n",
    "load_dotenv('.env')\n",
    "from transformers import BertTokenizerFast\n",
    "import pinecone_text\n",
    "from sentence_transformers import SentenceTransformer\n",
    "import torch\n",
    "OPENAI_API_KEY = os.environ['OPENAI_API_KEY']\n",
    "PINECONE_API_KEY = os.environ['PINECONE_API_KEY']\n",
    "PINECONE_API_ENV = os.environ['PINECONE_API_ENV']"
   ]
  },
  {
   "attachments": {},
   "cell_type": "markdown",
   "metadata": {},
   "source": [
    "### Read data"
   ]
  },
  {
   "cell_type": "code",
   "execution_count": 2,
   "metadata": {},
   "outputs": [
    {
     "name": "stdout",
     "output_type": "stream",
     "text": [
      "CÂU HỎI GỐC: Danh mục sản phẩm an toàn thông tin được nhập khẩu theo giấy phép?\n",
      "CÂU HỎI GỐC: Nguyên tắc quản lý nhập khẩu sản phẩm an toàn thông tin mạng?\n",
      "CÂU HỎI GỐC: Hệ thống thông tin quan trọng quốc gia trước khi đưa vào vận hành, khai thác phải đáp ứng yêu cầu gì về an toàn thông tin?\n",
      "CÂU HỎI GỐC: Chủ quản hệ thống thông tin sử dụng ngân sách nhà nước có trách nhiệm gì?\n",
      "CÂU HỎI GỐC: Các thiết bị đầu cuối có phải đối tượng giám sát an toàn thông tin không?\n"
     ]
    }
   ],
   "source": [
    "def data_loader(file_sets, ):\n",
    "    # Đọc dữ liệu từ các file .csv và trả lại toàn bộ dữ liệu\n",
    "    sum_data = []\n",
    "    for file_path in file_sets:\n",
    "        loader = CSVLoader(file_path=f'./{file_path}',\n",
    "                           \n",
    "                            encoding='UTF-8')\n",
    "        data = loader.load()\n",
    "        sum_data+=data\n",
    "    return sum_data\n",
    "file_sets = ['Question_Sheet1.csv']\n",
    "data = data_loader(file_sets)\n",
    "for item in data[:5]:\n",
    "    print(item.page_content)\n",
    "# data"
   ]
  },
  {
   "cell_type": "code",
   "execution_count": 3,
   "metadata": {},
   "outputs": [
    {
     "name": "stdout",
     "output_type": "stream",
     "text": [
      "CÂU HỎI GỐC: Danh mục sản phẩm an toàn thông tin được nhập khẩu theo giấy phép?\n",
      "CÂU HỎI GỐC: Nguyên tắc quản lý nhập khẩu sản phẩm an toàn thông tin mạng?\n"
     ]
    }
   ],
   "source": [
    "text_splitter = RecursiveCharacterTextSplitter(chunk_size = 150, chunk_overlap = 0)\n",
    "texts = text_splitter.split_documents(data)\n",
    "for item in texts[:2]:\n",
    "    print(item.page_content)"
   ]
  },
  {
   "cell_type": "code",
   "execution_count": 13,
   "metadata": {},
   "outputs": [],
   "source": [
    "pinecone.init(\n",
    "    api_key=PINECONE_API_KEY,  # find at app.pinecone.io\n",
    "    environment=PINECONE_API_ENV  # next to api key in console\n",
    ")\n",
    "index_name = \"index1\" # put in the name of your pinecone index here"
   ]
  },
  {
   "cell_type": "code",
   "execution_count": 15,
   "metadata": {},
   "outputs": [],
   "source": [
    "embeddings = OpenAIEmbeddings(openai_api_key=OPENAI_API_KEY)\n",
    "docsearch = Pinecone.from_texts([t.page_content for t in texts], embeddings, index_name=index_name)"
   ]
  },
  {
   "cell_type": "code",
   "execution_count": 16,
   "metadata": {},
   "outputs": [
    {
     "data": {
      "text/plain": [
       "[Document(page_content='CÂU HỎI GỐC: Định nghĩa phân loại cấp độ an toàn hệ thống thông tin', metadata={}),\n",
       " Document(page_content='CÂU HỎI GỐC: Hệ thống thông tin là gì?', metadata={}),\n",
       " Document(page_content='CÂU HỎI GỐC: Quy định về cấp độ hệ thống thông tin?', metadata={}),\n",
       " Document(page_content='CÂU HỎI GỐC: Hệ thống cơ sở hạ tầng thông tin?', metadata={})]"
      ]
     },
     "execution_count": 16,
     "metadata": {},
     "output_type": "execute_result"
    }
   ],
   "source": [
    "query = \"định nghĩa về hệ thống thông tin\"\n",
    "docs = docsearch.similarity_search(query, include_metadata=True)\n",
    "docs"
   ]
  }
 ],
 "metadata": {
  "kernelspec": {
   "display_name": "Python 3",
   "language": "python",
   "name": "python3"
  },
  "language_info": {
   "codemirror_mode": {
    "name": "ipython",
    "version": 3
   },
   "file_extension": ".py",
   "mimetype": "text/x-python",
   "name": "python",
   "nbconvert_exporter": "python",
   "pygments_lexer": "ipython3",
   "version": "3.10.10"
  },
  "orig_nbformat": 4
 },
 "nbformat": 4,
 "nbformat_minor": 2
}
